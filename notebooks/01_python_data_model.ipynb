{
 "cells": [
  {
   "cell_type": "code",
   "execution_count": null,
   "metadata": {},
   "outputs": [],
   "source": [
    "%load_ext autoreload\n",
    "%autoreload 2\n",
    "\n",
    "import pandas as pd\n",
    "import numpy as np\n",
    "\n",
    "import src.const as const\n",
    "\n",
    "print(f'{const.path} imported as const')"
   ]
  },
  {
   "attachments": {},
   "cell_type": "markdown",
   "metadata": {},
   "source": [
    "# Special methods\n",
    "\n",
    "## Sequence types"
   ]
  },
  {
   "cell_type": "code",
   "execution_count": null,
   "metadata": {},
   "outputs": [],
   "source": [
    "# pythonic deck card\n",
    "import src.data_structures.card_deck as cd \n",
    "\n",
    "beer_card = cd.Card('7', 'diamonds')\n",
    "\n",
    "deck = cd.FrenchDeck()\n",
    "\n",
    "from random import choice\n",
    "choice(deck)\n",
    "\n",
    "# sliceble\n",
    "deck[12::13]\n",
    "\n",
    "# itrable\n",
    "for card in deck:\n",
    "    print(card)"
   ]
  },
  {
   "cell_type": "code",
   "execution_count": null,
   "metadata": {},
   "outputs": [],
   "source": [
    "suit_values = dict(spades=3, hearts=2, diamonds=1, clubs=0) \n",
    "\n",
    "def spades_high(card): \n",
    "    rank_value = cd.FrenchDeck.ranks.index(card.rank) \n",
    "    return rank_value * len(suit_values) + suit_values[card.suit]\n",
    "\n",
    "# sortable\n",
    "for card in sorted(deck, key=spades_high):\n",
    "    print(card)"
   ]
  },
  {
   "cell_type": "markdown",
   "metadata": {},
   "source": [
    "## Emulating numeric types"
   ]
  },
  {
   "cell_type": "code",
   "execution_count": null,
   "metadata": {},
   "outputs": [],
   "source": [
    "import src.data_structures.vector as vec\n",
    "\n",
    "#  repr方法定义了对象在交互模式和日志字符串中的显示方式 !r将显示为数字\n",
    "vec.Vector(3.1, 4.2) # Vector(3.1, 4.2)\n",
    "\n",
    "# __str__方法继承repr方法，可以不用定义\n",
    "str(vec.Vector(3.1, 4.2)) # 'Vector(3.1, 4.2)'"
   ]
  },
  {
   "cell_type": "markdown",
   "metadata": {},
   "source": [
    "## Boolean Value of a Custom Type"
   ]
  },
  {
   "cell_type": "code",
   "execution_count": null,
   "metadata": {},
   "outputs": [],
   "source": []
  },
  {
   "cell_type": "code",
   "execution_count": null,
   "metadata": {},
   "outputs": [],
   "source": []
  },
  {
   "cell_type": "markdown",
   "metadata": {},
   "source": [
    "## collections API"
   ]
  },
  {
   "attachments": {},
   "cell_type": "markdown",
   "metadata": {},
   "source": [
    "![image.png|500](https://az-image-1310475420.cos.ap-guangzhou.myqcloud.com/pics/20230927180144.png)\n",
    "\n"
   ]
  },
  {
   "cell_type": "markdown",
   "metadata": {},
   "source": []
  }
 ],
 "metadata": {
  "kernelspec": {
   "display_name": "py10",
   "language": "python",
   "name": "python3"
  },
  "language_info": {
   "codemirror_mode": {
    "name": "ipython",
    "version": 3
   },
   "file_extension": ".py",
   "mimetype": "text/x-python",
   "name": "python",
   "nbconvert_exporter": "python",
   "pygments_lexer": "ipython3",
   "version": "3.10.12"
  },
  "orig_nbformat": 4,
  "vscode": {
   "interpreter": {
    "hash": "3018e8824340e106625923d9da10977e94c378a6185dd4456db306b0f6027436"
   }
  }
 },
 "nbformat": 4,
 "nbformat_minor": 2
}
