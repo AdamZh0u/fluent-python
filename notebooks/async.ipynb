{
 "cells": [
  {
   "cell_type": "markdown",
   "metadata": {},
   "source": [
    "# 协程\n",
    "\n",
    "- 适合处理需要等待的任务\n",
    "- asyncio创建event_loop包含多个task决定执行那个任务\n",
    "    - loop = asyncio.get_event_loop()\n",
    "    - 同时执行的只能有一个，没有`竞争冒险`的问题\n",
    "- coroutine \n",
    "    - coroutine function: async def\n",
    "    - coroutine object: 调用coroutine function返回的对象，并不会运行coroutine的函数\n",
    "- 如何运行coroutine？\n",
    "    - 进入async模式:\n",
    "        -  入口：asyncio.run(main()) \n",
    "            1. 创建event_loop\n",
    "            2. 把main()注册到event_loop中\n",
    "    - 在async模式下增加task\n",
    "        1. `await func()`  func 由async def定义，返回一个coroutine对象\n",
    "            1. 将coroutine包装成task并注册到event_loop中\n",
    "            2. task的依赖关系，task依赖于func完成才能继续\n",
    "            3. yield直到event_loop再次运行到task，把func的返回值返回\n",
    "            - 相当于一个async def定义的函数生成了一个func和一个task，task依赖于func\n",
    "        2. `create_task函数`，先注册多个task，再决定运行那些task\n",
    "            - task = asyncio.create_task(func()) func也是一个coroutine函数由async def定义\n",
    "            - `await task`当await时，不需要注册task2，告诉event_loop需要task1完成，控制权交还给event_loop，当task1完成后获取返回值\n",
    "        3. 获取所有task的返回值future\n",
    "            - `await asyncio.gather(ls)`， ls可以是若干个coroutine，也可以是若干个task，或者future(多层gather)\n",
    "            - gather对task和corotine都会一次性注册所有task到event_loop中，此时定义corotine更方便\n"
   ]
  },
  {
   "cell_type": "code",
   "execution_count": 1,
   "metadata": {},
   "outputs": [
    {
     "name": "stdout",
     "output_type": "stream",
     "text": [
      "start 23:05:06\n",
      "end 23:05:12\n"
     ]
    }
   ],
   "source": [
    "import asyncio\n",
    "import time\n",
    "\n",
    "async def main():\n",
    "    print('start', time.strftime('%X'))\n",
    "    await asyncio.sleep(2)\n",
    "    await asyncio.sleep(4) # 需要等到上面的完成后才能变成task\n",
    "    print('end', time.strftime('%X'))\n",
    "\n",
    "await main() # 6s"
   ]
  },
  {
   "cell_type": "code",
   "execution_count": 2,
   "metadata": {},
   "outputs": [
    {
     "name": "stdout",
     "output_type": "stream",
     "text": [
      "start 23:05:12\n",
      "end 23:05:16\n"
     ]
    }
   ],
   "source": [
    "import asyncio\n",
    "import time\n",
    "\n",
    "async def main():\n",
    "    task1 = asyncio.create_task(asyncio.sleep(2))\n",
    "    task2 = asyncio.create_task(asyncio.sleep(4))\n",
    "\n",
    "    print('start', time.strftime('%X'))\n",
    "    await task1\n",
    "    await task2  # 先注册task1，task2，当await task1时，此时task2也会被执行\n",
    "    print('end', time.strftime('%X'))\n",
    "\n",
    "await main() # 4s"
   ]
  },
  {
   "cell_type": "code",
   "execution_count": 3,
   "metadata": {},
   "outputs": [
    {
     "name": "stdout",
     "output_type": "stream",
     "text": [
      "23:05:17 23:05:21 [None, None]\n",
      "23:05:21 23:05:25 [None, None]\n"
     ]
    }
   ],
   "source": [
    "import asyncio\n",
    "import time\n",
    "\n",
    "\n",
    "async def main():\n",
    "\n",
    "    # multi coroutine\n",
    "    start = time.strftime('%X')\n",
    "    ret = await asyncio.gather(asyncio.sleep(2), asyncio.sleep(4)) # 此时会一次性注册所有task，然后一起执行\n",
    "    end = time.strftime('%X')\n",
    "    print(start, end, ret) # 4s\n",
    "\n",
    "    # multi task\n",
    "    start = time.strftime('%X')\n",
    "    task1 = asyncio.create_task(asyncio.sleep(2))\n",
    "    task2 = asyncio.create_task(asyncio.sleep(4))\n",
    "\n",
    "    ret = await asyncio.gather(task1,task2)\n",
    "    end = time.strftime('%X')\n",
    "    print(start, end, ret) # 4s \n",
    "\n",
    "await main() # "
   ]
  },
  {
   "cell_type": "code",
   "execution_count": 4,
   "metadata": {},
   "outputs": [
    {
     "name": "stdout",
     "output_type": "stream",
     "text": [
      "['sleep', 'sleep', 'sleep', 'sleep', 'sleep']\n"
     ]
    }
   ],
   "source": [
    "async def sleep():\n",
    "    await asyncio.sleep(2)\n",
    "    return 'sleep'\n",
    "\n",
    "async def main():\n",
    "    ret = await asyncio.gather(*[sleep() for _ in range(5)])\n",
    "    print(ret)\n",
    "\n",
    "await main() # 2s "
   ]
  },
  {
   "cell_type": "code",
   "execution_count": 5,
   "metadata": {},
   "outputs": [],
   "source": [
    "async def main():\n",
    "    await sleep()\n",
    "    await sleep()\n",
    "    await sleep()\n",
    "    await sleep()\n",
    "    await sleep()\n",
    "\n",
    "await main() # 10s "
   ]
  }
 ],
 "metadata": {
  "kernelspec": {
   "display_name": "py10",
   "language": "python",
   "name": "python3"
  },
  "language_info": {
   "codemirror_mode": {
    "name": "ipython",
    "version": 3
   },
   "file_extension": ".py",
   "mimetype": "text/x-python",
   "name": "python",
   "nbconvert_exporter": "python",
   "pygments_lexer": "ipython3",
   "version": "3.10.12"
  }
 },
 "nbformat": 4,
 "nbformat_minor": 2
}
